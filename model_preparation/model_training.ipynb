{
 "cells": [
  {
   "cell_type": "code",
   "execution_count": 1,
   "metadata": {},
   "outputs": [
    {
     "name": "stdout",
     "output_type": "stream",
     "text": [
      "Mon Mar 10 10:46:46 2025       \n",
      "+-----------------------------------------------------------------------------------------+\n",
      "| NVIDIA-SMI 566.24                 Driver Version: 566.24         CUDA Version: 12.7     |\n",
      "|-----------------------------------------+------------------------+----------------------+\n",
      "| GPU  Name                  Driver-Model | Bus-Id          Disp.A | Volatile Uncorr. ECC |\n",
      "| Fan  Temp   Perf          Pwr:Usage/Cap |           Memory-Usage | GPU-Util  Compute M. |\n",
      "|                                         |                        |               MIG M. |\n",
      "|=========================================+========================+======================|\n",
      "|   0  NVIDIA RTX A2000 Laptop GPU  WDDM  |   00000000:01:00.0 Off |                  N/A |\n",
      "| N/A   58C    P0             12W /   35W |       0MiB /   4096MiB |      0%      Default |\n",
      "|                                         |                        |                  N/A |\n",
      "+-----------------------------------------+------------------------+----------------------+\n",
      "                                                                                         \n",
      "+-----------------------------------------------------------------------------------------+\n",
      "| Processes:                                                                              |\n",
      "|  GPU   GI   CI        PID   Type   Process name                              GPU Memory |\n",
      "|        ID   ID                                                               Usage      |\n",
      "|=========================================================================================|\n",
      "|  No running processes found                                                             |\n",
      "+-----------------------------------------------------------------------------------------+\n"
     ]
    }
   ],
   "source": [
    "!nvidia-smi"
   ]
  },
  {
   "cell_type": "markdown",
   "metadata": {},
   "source": [
    "# install the torch version that is compatiable according to the cuda version"
   ]
  },
  {
   "cell_type": "code",
   "execution_count": 2,
   "metadata": {},
   "outputs": [
    {
     "name": "stderr",
     "output_type": "stream",
     "text": [
      "c:\\Users\\thanredd\\Desktop\\Personal\\DeccanAI\\myenv\\lib\\site-packages\\tqdm\\auto.py:21: TqdmWarning: IProgress not found. Please update jupyter and ipywidgets. See https://ipywidgets.readthedocs.io/en/stable/user_install.html\n",
      "  from .autonotebook import tqdm as notebook_tqdm\n"
     ]
    },
    {
     "name": "stdout",
     "output_type": "stream",
     "text": [
      "Torch Version: 2.6.0+cu126\n",
      "CUDA Available: True\n",
      "GPU: NVIDIA RTX A2000 Laptop GPU\n"
     ]
    }
   ],
   "source": [
    "import pandas as pd\n",
    "import numpy as np\n",
    "from datasets import load_dataset,Dataset\n",
    "import torch\n",
    "from transformers import BertTokenizerFast, BertForTokenClassification, Trainer, TrainingArguments\n",
    "import pickle\n",
    "import torch\n",
    "from seqeval.metrics import f1_score, precision_score, recall_score, classification_report\n",
    "print(\"Torch Version:\", torch.__version__)\n",
    "print(\"CUDA Available:\", torch.cuda.is_available())\n",
    "print(\"GPU:\", torch.cuda.get_device_name(0))\n",
    "\n"
   ]
  },
  {
   "cell_type": "code",
   "execution_count": 3,
   "metadata": {},
   "outputs": [
    {
     "name": "stdout",
     "output_type": "stream",
     "text": [
      "DatasetDict({\n",
      "    train: Dataset({\n",
      "        features: ['id', 'tokens', 'pos_tags', 'chunk_tags', 'ner_tags'],\n",
      "        num_rows: 14041\n",
      "    })\n",
      "    validation: Dataset({\n",
      "        features: ['id', 'tokens', 'pos_tags', 'chunk_tags', 'ner_tags'],\n",
      "        num_rows: 3250\n",
      "    })\n",
      "    test: Dataset({\n",
      "        features: ['id', 'tokens', 'pos_tags', 'chunk_tags', 'ner_tags'],\n",
      "        num_rows: 3453\n",
      "    })\n",
      "})\n"
     ]
    }
   ],
   "source": [
    "\n",
    "\n",
    "# Load the CoNLL-2003 Dataset\n",
    "dataset = load_dataset(\"conll2003\")\n",
    "\n",
    "print(dataset)\n"
   ]
  },
  {
   "cell_type": "code",
   "execution_count": 4,
   "metadata": {},
   "outputs": [
    {
     "data": {
      "text/plain": [
       "{'train': (14041, 5), 'validation': (3250, 5), 'test': (3453, 5)}"
      ]
     },
     "execution_count": 4,
     "metadata": {},
     "output_type": "execute_result"
    }
   ],
   "source": [
    "dataset.shape"
   ]
  },
  {
   "cell_type": "code",
   "execution_count": 5,
   "metadata": {},
   "outputs": [
    {
     "data": {
      "text/plain": [
       "{'id': '0',\n",
       " 'tokens': ['EU',\n",
       "  'rejects',\n",
       "  'German',\n",
       "  'call',\n",
       "  'to',\n",
       "  'boycott',\n",
       "  'British',\n",
       "  'lamb',\n",
       "  '.'],\n",
       " 'pos_tags': [22, 42, 16, 21, 35, 37, 16, 21, 7],\n",
       " 'chunk_tags': [11, 21, 11, 12, 21, 22, 11, 12, 0],\n",
       " 'ner_tags': [3, 0, 7, 0, 0, 0, 7, 0, 0]}"
      ]
     },
     "execution_count": 5,
     "metadata": {},
     "output_type": "execute_result"
    }
   ],
   "source": [
    "\n",
    "dataset['train'][0]\n"
   ]
  },
  {
   "cell_type": "code",
   "execution_count": 6,
   "metadata": {},
   "outputs": [
    {
     "data": {
      "text/plain": [
       "{'id': '0',\n",
       " 'tokens': ['SOCCER',\n",
       "  '-',\n",
       "  'JAPAN',\n",
       "  'GET',\n",
       "  'LUCKY',\n",
       "  'WIN',\n",
       "  ',',\n",
       "  'CHINA',\n",
       "  'IN',\n",
       "  'SURPRISE',\n",
       "  'DEFEAT',\n",
       "  '.'],\n",
       " 'pos_tags': [21, 8, 22, 37, 22, 22, 6, 22, 15, 12, 21, 7],\n",
       " 'chunk_tags': [11, 0, 11, 21, 11, 12, 0, 11, 13, 11, 12, 0],\n",
       " 'ner_tags': [0, 0, 5, 0, 0, 0, 0, 1, 0, 0, 0, 0]}"
      ]
     },
     "execution_count": 6,
     "metadata": {},
     "output_type": "execute_result"
    }
   ],
   "source": [
    "dataset['test'][0]"
   ]
  },
  {
   "cell_type": "code",
   "execution_count": 7,
   "metadata": {},
   "outputs": [
    {
     "data": {
      "text/html": [
       "<div>\n",
       "<style scoped>\n",
       "    .dataframe tbody tr th:only-of-type {\n",
       "        vertical-align: middle;\n",
       "    }\n",
       "\n",
       "    .dataframe tbody tr th {\n",
       "        vertical-align: top;\n",
       "    }\n",
       "\n",
       "    .dataframe thead th {\n",
       "        text-align: right;\n",
       "    }\n",
       "</style>\n",
       "<table border=\"1\" class=\"dataframe\">\n",
       "  <thead>\n",
       "    <tr style=\"text-align: right;\">\n",
       "      <th></th>\n",
       "      <th>id</th>\n",
       "      <th>tokens</th>\n",
       "      <th>pos_tags</th>\n",
       "      <th>chunk_tags</th>\n",
       "      <th>ner_tags</th>\n",
       "    </tr>\n",
       "  </thead>\n",
       "  <tbody>\n",
       "    <tr>\n",
       "      <th>0</th>\n",
       "      <td>0</td>\n",
       "      <td>[CRICKET, -, LEICESTERSHIRE, TAKE, OVER, AT, T...</td>\n",
       "      <td>[22, 8, 22, 22, 15, 22, 22, 22, 22, 21, 7]</td>\n",
       "      <td>[11, 0, 11, 12, 13, 11, 12, 12, 12, 12, 0]</td>\n",
       "      <td>[0, 0, 3, 0, 0, 0, 0, 0, 0, 0, 0]</td>\n",
       "    </tr>\n",
       "    <tr>\n",
       "      <th>1</th>\n",
       "      <td>1</td>\n",
       "      <td>[LONDON, 1996-08-30]</td>\n",
       "      <td>[22, 11]</td>\n",
       "      <td>[11, 12]</td>\n",
       "      <td>[5, 0]</td>\n",
       "    </tr>\n",
       "    <tr>\n",
       "      <th>2</th>\n",
       "      <td>2</td>\n",
       "      <td>[West, Indian, all-rounder, Phil, Simmons, too...</td>\n",
       "      <td>[22, 22, 21, 22, 22, 38, 11, 15, 11, 15, 22, 1...</td>\n",
       "      <td>[11, 12, 12, 12, 12, 21, 11, 13, 11, 13, 11, 1...</td>\n",
       "      <td>[7, 8, 0, 1, 2, 0, 0, 0, 0, 0, 0, 0, 3, 0, 3, ...</td>\n",
       "    </tr>\n",
       "    <tr>\n",
       "      <th>3</th>\n",
       "      <td>3</td>\n",
       "      <td>[Their, stay, on, top, ,, though, ,, may, be, ...</td>\n",
       "      <td>[29, 21, 15, 21, 6, 30, 6, 20, 37, 16, 15, 21,...</td>\n",
       "      <td>[11, 12, 13, 11, 0, 3, 0, 21, 22, 1, 13, 11, 1...</td>\n",
       "      <td>[0, 0, 0, 0, 0, 0, 0, 0, 0, 0, 0, 0, 0, 3, 0, ...</td>\n",
       "    </tr>\n",
       "    <tr>\n",
       "      <th>4</th>\n",
       "      <td>4</td>\n",
       "      <td>[After, bowling, Somerset, out, for, 83, on, t...</td>\n",
       "      <td>[15, 39, 22, 33, 15, 11, 15, 12, 21, 21, 15, 2...</td>\n",
       "      <td>[13, 11, 12, 15, 13, 11, 13, 11, 12, 12, 13, 1...</td>\n",
       "      <td>[0, 0, 3, 0, 0, 0, 0, 0, 0, 0, 0, 5, 6, 0, 3, ...</td>\n",
       "    </tr>\n",
       "    <tr>\n",
       "      <th>...</th>\n",
       "      <td>...</td>\n",
       "      <td>...</td>\n",
       "      <td>...</td>\n",
       "      <td>...</td>\n",
       "      <td>...</td>\n",
       "    </tr>\n",
       "    <tr>\n",
       "      <th>3245</th>\n",
       "      <td>3245</td>\n",
       "      <td>[But, the, prices, may, move, in, a, close, ra...</td>\n",
       "      <td>[10, 12, 24, 20, 37, 15, 12, 16, 21, 39, 12, 4...</td>\n",
       "      <td>[0, 11, 12, 21, 22, 13, 11, 12, 12, 13, 11, 12...</td>\n",
       "      <td>[0, 0, 0, 0, 0, 0, 0, 0, 0, 0, 0, 0, 0, 0, 0, 0]</td>\n",
       "    </tr>\n",
       "    <tr>\n",
       "      <th>3246</th>\n",
       "      <td>3246</td>\n",
       "      <td>[Brokers, said, blue, chips, like, IDLC, ,, Ba...</td>\n",
       "      <td>[24, 38, 16, 24, 15, 22, 6, 22, 22, 6, 22, 22,...</td>\n",
       "      <td>[11, 21, 11, 12, 13, 11, 0, 11, 12, 0, 11, 12,...</td>\n",
       "      <td>[0, 0, 0, 0, 0, 3, 0, 3, 4, 0, 3, 4, 0, 3, 4, ...</td>\n",
       "    </tr>\n",
       "    <tr>\n",
       "      <th>3247</th>\n",
       "      <td>3247</td>\n",
       "      <td>[They, said, there, was, still, demand, for, b...</td>\n",
       "      <td>[28, 38, 13, 38, 30, 37, 15, 16, 24, 15, 21, 2...</td>\n",
       "      <td>[11, 21, 11, 21, 22, 22, 13, 11, 12, 13, 11, 1...</td>\n",
       "      <td>[0, 0, 0, 0, 0, 0, 0, 0, 0, 0, 0, 0, 0, 0, 0, ...</td>\n",
       "    </tr>\n",
       "    <tr>\n",
       "      <th>3248</th>\n",
       "      <td>3248</td>\n",
       "      <td>[The, DSE, all, share, price, index, closed, 2...</td>\n",
       "      <td>[12, 21, 12, 21, 21, 21, 38, 11, 24, 10, 11, 2...</td>\n",
       "      <td>[11, 12, 11, 12, 12, 12, 21, 11, 12, 0, 11, 12...</td>\n",
       "      <td>[0, 3, 0, 0, 0, 0, 0, 0, 0, 0, 0, 0, 0, 0, 0, ...</td>\n",
       "    </tr>\n",
       "    <tr>\n",
       "      <th>3249</th>\n",
       "      <td>3249</td>\n",
       "      <td>[--, Dhaka, Newsroom, 880-2-506363]</td>\n",
       "      <td>[8, 22, 22, 11]</td>\n",
       "      <td>[0, 11, 12, 12]</td>\n",
       "      <td>[0, 3, 4, 0]</td>\n",
       "    </tr>\n",
       "  </tbody>\n",
       "</table>\n",
       "<p>3250 rows × 5 columns</p>\n",
       "</div>"
      ],
      "text/plain": [
       "        id                                             tokens  \\\n",
       "0        0  [CRICKET, -, LEICESTERSHIRE, TAKE, OVER, AT, T...   \n",
       "1        1                               [LONDON, 1996-08-30]   \n",
       "2        2  [West, Indian, all-rounder, Phil, Simmons, too...   \n",
       "3        3  [Their, stay, on, top, ,, though, ,, may, be, ...   \n",
       "4        4  [After, bowling, Somerset, out, for, 83, on, t...   \n",
       "...    ...                                                ...   \n",
       "3245  3245  [But, the, prices, may, move, in, a, close, ra...   \n",
       "3246  3246  [Brokers, said, blue, chips, like, IDLC, ,, Ba...   \n",
       "3247  3247  [They, said, there, was, still, demand, for, b...   \n",
       "3248  3248  [The, DSE, all, share, price, index, closed, 2...   \n",
       "3249  3249                [--, Dhaka, Newsroom, 880-2-506363]   \n",
       "\n",
       "                                               pos_tags  \\\n",
       "0            [22, 8, 22, 22, 15, 22, 22, 22, 22, 21, 7]   \n",
       "1                                              [22, 11]   \n",
       "2     [22, 22, 21, 22, 22, 38, 11, 15, 11, 15, 22, 1...   \n",
       "3     [29, 21, 15, 21, 6, 30, 6, 20, 37, 16, 15, 21,...   \n",
       "4     [15, 39, 22, 33, 15, 11, 15, 12, 21, 21, 15, 2...   \n",
       "...                                                 ...   \n",
       "3245  [10, 12, 24, 20, 37, 15, 12, 16, 21, 39, 12, 4...   \n",
       "3246  [24, 38, 16, 24, 15, 22, 6, 22, 22, 6, 22, 22,...   \n",
       "3247  [28, 38, 13, 38, 30, 37, 15, 16, 24, 15, 21, 2...   \n",
       "3248  [12, 21, 12, 21, 21, 21, 38, 11, 24, 10, 11, 2...   \n",
       "3249                                    [8, 22, 22, 11]   \n",
       "\n",
       "                                             chunk_tags  \\\n",
       "0            [11, 0, 11, 12, 13, 11, 12, 12, 12, 12, 0]   \n",
       "1                                              [11, 12]   \n",
       "2     [11, 12, 12, 12, 12, 21, 11, 13, 11, 13, 11, 1...   \n",
       "3     [11, 12, 13, 11, 0, 3, 0, 21, 22, 1, 13, 11, 1...   \n",
       "4     [13, 11, 12, 15, 13, 11, 13, 11, 12, 12, 13, 1...   \n",
       "...                                                 ...   \n",
       "3245  [0, 11, 12, 21, 22, 13, 11, 12, 12, 13, 11, 12...   \n",
       "3246  [11, 21, 11, 12, 13, 11, 0, 11, 12, 0, 11, 12,...   \n",
       "3247  [11, 21, 11, 21, 22, 22, 13, 11, 12, 13, 11, 1...   \n",
       "3248  [11, 12, 11, 12, 12, 12, 21, 11, 12, 0, 11, 12...   \n",
       "3249                                    [0, 11, 12, 12]   \n",
       "\n",
       "                                               ner_tags  \n",
       "0                     [0, 0, 3, 0, 0, 0, 0, 0, 0, 0, 0]  \n",
       "1                                                [5, 0]  \n",
       "2     [7, 8, 0, 1, 2, 0, 0, 0, 0, 0, 0, 0, 3, 0, 3, ...  \n",
       "3     [0, 0, 0, 0, 0, 0, 0, 0, 0, 0, 0, 0, 0, 3, 0, ...  \n",
       "4     [0, 0, 3, 0, 0, 0, 0, 0, 0, 0, 0, 5, 6, 0, 3, ...  \n",
       "...                                                 ...  \n",
       "3245   [0, 0, 0, 0, 0, 0, 0, 0, 0, 0, 0, 0, 0, 0, 0, 0]  \n",
       "3246  [0, 0, 0, 0, 0, 3, 0, 3, 4, 0, 3, 4, 0, 3, 4, ...  \n",
       "3247  [0, 0, 0, 0, 0, 0, 0, 0, 0, 0, 0, 0, 0, 0, 0, ...  \n",
       "3248  [0, 3, 0, 0, 0, 0, 0, 0, 0, 0, 0, 0, 0, 0, 0, ...  \n",
       "3249                                       [0, 3, 4, 0]  \n",
       "\n",
       "[3250 rows x 5 columns]"
      ]
     },
     "execution_count": 7,
     "metadata": {},
     "output_type": "execute_result"
    }
   ],
   "source": [
    "train_df_raw = pd.DataFrame(dataset['train'])\n",
    "test_df_raw = pd.DataFrame(dataset['test'])\n",
    "valid_df_raw = pd.DataFrame(dataset['validation'])\n",
    "\n",
    "valid_df_raw\n"
   ]
  },
  {
   "cell_type": "code",
   "execution_count": 8,
   "metadata": {},
   "outputs": [
    {
     "name": "stdout",
     "output_type": "stream",
     "text": [
      "Tag List:\n",
      "['O', 'B-PER', 'I-PER', 'B-ORG', 'I-ORG', 'B-LOC', 'I-LOC', 'B-MISC', 'I-MISC']\n",
      "\n",
      "Label Map (Tag → ID):\n",
      "{'O': 0, 'B-PER': 1, 'I-PER': 2, 'B-ORG': 3, 'I-ORG': 4, 'B-LOC': 5, 'I-LOC': 6, 'B-MISC': 7, 'I-MISC': 8}\n",
      "\n",
      "Inverse Map (ID → Tag):\n",
      "{0: 'O', 1: 'B-PER', 2: 'I-PER', 3: 'B-ORG', 4: 'I-ORG', 5: 'B-LOC', 6: 'I-LOC', 7: 'B-MISC', 8: 'I-MISC'}\n"
     ]
    }
   ],
   "source": [
    "tag_list = dataset['train'].features['ner_tags'].feature.names\n",
    "\n",
    "tag_map = {label: i for i, label in enumerate(tag_list)}\n",
    "\n",
    "id2tag = {i: label for i, label in enumerate(tag_list)}\n",
    "\n",
    "print(\"Tag List:\")\n",
    "print(tag_list)\n",
    "\n",
    "print(\"\\nLabel Map (Tag → ID):\")\n",
    "print(tag_map)\n",
    "\n",
    "print(\"\\nInverse Map (ID → Tag):\")\n",
    "print(id2tag)\n"
   ]
  },
  {
   "cell_type": "code",
   "execution_count": 9,
   "metadata": {},
   "outputs": [],
   "source": [
    "# Function to convert any Hugging Face dataset split to a clean DataFrame\n",
    "def map_ner_tags(df):\n",
    "    \"\"\"\n",
    "    Convert a Hugging Face dataset split to a DataFrame.\n",
    "    Maps NER tags from integers to human-readable labels.\n",
    "    Drops unnecessary columns like pos_tags, chunk_tags, id.\n",
    "    \"\"\"\n",
    "    def map_tags(ner_tags):\n",
    "        return [tag_list[tag] for tag in ner_tags]\n",
    "\n",
    "    df['ner_labels'] = df['ner_tags'].apply(map_tags)\n",
    "    \n",
    "    # Drop unnecessary columns\n",
    "    df = df[['tokens', 'ner_labels', 'ner_tags']]\n",
    "    \n",
    "    return df\n",
    "\n"
   ]
  },
  {
   "cell_type": "code",
   "execution_count": 10,
   "metadata": {},
   "outputs": [],
   "source": [
    "train_df = map_ner_tags(train_df_raw)\n",
    "test_df = map_ner_tags(test_df_raw)\n",
    "valid_df = map_ner_tags(valid_df_raw)"
   ]
  },
  {
   "cell_type": "code",
   "execution_count": 11,
   "metadata": {},
   "outputs": [
    {
     "name": "stdout",
     "output_type": "stream",
     "text": [
      "\n",
      "Dataset sizes:\n",
      "Train set: 14041 samples\n",
      "Validation set: 3250 samples\n",
      "Test set: 3453 samples\n"
     ]
    }
   ],
   "source": [
    "print(\"\\nDataset sizes:\")\n",
    "print(f\"Train set: {len(train_df)} samples\")\n",
    "print(f\"Validation set: {len(valid_df)} samples\")\n",
    "print(f\"Test set: {len(test_df)} samples\")"
   ]
  },
  {
   "cell_type": "code",
   "execution_count": 12,
   "metadata": {},
   "outputs": [
    {
     "data": {
      "text/html": [
       "<div>\n",
       "<style scoped>\n",
       "    .dataframe tbody tr th:only-of-type {\n",
       "        vertical-align: middle;\n",
       "    }\n",
       "\n",
       "    .dataframe tbody tr th {\n",
       "        vertical-align: top;\n",
       "    }\n",
       "\n",
       "    .dataframe thead th {\n",
       "        text-align: right;\n",
       "    }\n",
       "</style>\n",
       "<table border=\"1\" class=\"dataframe\">\n",
       "  <thead>\n",
       "    <tr style=\"text-align: right;\">\n",
       "      <th></th>\n",
       "      <th>tokens</th>\n",
       "      <th>ner_labels</th>\n",
       "      <th>ner_tags</th>\n",
       "    </tr>\n",
       "  </thead>\n",
       "  <tbody>\n",
       "    <tr>\n",
       "      <th>0</th>\n",
       "      <td>[EU, rejects, German, call, to, boycott, Briti...</td>\n",
       "      <td>[B-ORG, O, B-MISC, O, O, O, B-MISC, O, O]</td>\n",
       "      <td>[3, 0, 7, 0, 0, 0, 7, 0, 0]</td>\n",
       "    </tr>\n",
       "    <tr>\n",
       "      <th>1</th>\n",
       "      <td>[Peter, Blackburn]</td>\n",
       "      <td>[B-PER, I-PER]</td>\n",
       "      <td>[1, 2]</td>\n",
       "    </tr>\n",
       "    <tr>\n",
       "      <th>2</th>\n",
       "      <td>[BRUSSELS, 1996-08-22]</td>\n",
       "      <td>[B-LOC, O]</td>\n",
       "      <td>[5, 0]</td>\n",
       "    </tr>\n",
       "    <tr>\n",
       "      <th>3</th>\n",
       "      <td>[The, European, Commission, said, on, Thursday...</td>\n",
       "      <td>[O, B-ORG, I-ORG, O, O, O, O, O, O, B-MISC, O,...</td>\n",
       "      <td>[0, 3, 4, 0, 0, 0, 0, 0, 0, 7, 0, 0, 0, 0, 0, ...</td>\n",
       "    </tr>\n",
       "    <tr>\n",
       "      <th>4</th>\n",
       "      <td>[Germany, 's, representative, to, the, Europea...</td>\n",
       "      <td>[B-LOC, O, O, O, O, B-ORG, I-ORG, O, O, O, B-P...</td>\n",
       "      <td>[5, 0, 0, 0, 0, 3, 4, 0, 0, 0, 1, 2, 0, 0, 0, ...</td>\n",
       "    </tr>\n",
       "  </tbody>\n",
       "</table>\n",
       "</div>"
      ],
      "text/plain": [
       "                                              tokens  \\\n",
       "0  [EU, rejects, German, call, to, boycott, Briti...   \n",
       "1                                 [Peter, Blackburn]   \n",
       "2                             [BRUSSELS, 1996-08-22]   \n",
       "3  [The, European, Commission, said, on, Thursday...   \n",
       "4  [Germany, 's, representative, to, the, Europea...   \n",
       "\n",
       "                                          ner_labels  \\\n",
       "0          [B-ORG, O, B-MISC, O, O, O, B-MISC, O, O]   \n",
       "1                                     [B-PER, I-PER]   \n",
       "2                                         [B-LOC, O]   \n",
       "3  [O, B-ORG, I-ORG, O, O, O, O, O, O, B-MISC, O,...   \n",
       "4  [B-LOC, O, O, O, O, B-ORG, I-ORG, O, O, O, B-P...   \n",
       "\n",
       "                                            ner_tags  \n",
       "0                        [3, 0, 7, 0, 0, 0, 7, 0, 0]  \n",
       "1                                             [1, 2]  \n",
       "2                                             [5, 0]  \n",
       "3  [0, 3, 4, 0, 0, 0, 0, 0, 0, 7, 0, 0, 0, 0, 0, ...  \n",
       "4  [5, 0, 0, 0, 0, 3, 4, 0, 0, 0, 1, 2, 0, 0, 0, ...  "
      ]
     },
     "execution_count": 12,
     "metadata": {},
     "output_type": "execute_result"
    }
   ],
   "source": [
    "train_df.head()"
   ]
  },
  {
   "cell_type": "code",
   "execution_count": 13,
   "metadata": {},
   "outputs": [
    {
     "data": {
      "text/html": [
       "<div>\n",
       "<style scoped>\n",
       "    .dataframe tbody tr th:only-of-type {\n",
       "        vertical-align: middle;\n",
       "    }\n",
       "\n",
       "    .dataframe tbody tr th {\n",
       "        vertical-align: top;\n",
       "    }\n",
       "\n",
       "    .dataframe thead th {\n",
       "        text-align: right;\n",
       "    }\n",
       "</style>\n",
       "<table border=\"1\" class=\"dataframe\">\n",
       "  <thead>\n",
       "    <tr style=\"text-align: right;\">\n",
       "      <th></th>\n",
       "      <th>tokens</th>\n",
       "      <th>ner_labels</th>\n",
       "      <th>ner_tags</th>\n",
       "    </tr>\n",
       "  </thead>\n",
       "  <tbody>\n",
       "    <tr>\n",
       "      <th>0</th>\n",
       "      <td>[SOCCER, -, JAPAN, GET, LUCKY, WIN, ,, CHINA, ...</td>\n",
       "      <td>[O, O, B-LOC, O, O, O, O, B-PER, O, O, O, O]</td>\n",
       "      <td>[0, 0, 5, 0, 0, 0, 0, 1, 0, 0, 0, 0]</td>\n",
       "    </tr>\n",
       "    <tr>\n",
       "      <th>1</th>\n",
       "      <td>[Nadim, Ladki]</td>\n",
       "      <td>[B-PER, I-PER]</td>\n",
       "      <td>[1, 2]</td>\n",
       "    </tr>\n",
       "    <tr>\n",
       "      <th>2</th>\n",
       "      <td>[AL-AIN, ,, United, Arab, Emirates, 1996-12-06]</td>\n",
       "      <td>[B-LOC, O, B-LOC, I-LOC, I-LOC, O]</td>\n",
       "      <td>[5, 0, 5, 6, 6, 0]</td>\n",
       "    </tr>\n",
       "    <tr>\n",
       "      <th>3</th>\n",
       "      <td>[Japan, began, the, defence, of, their, Asian,...</td>\n",
       "      <td>[B-LOC, O, O, O, O, O, B-MISC, I-MISC, O, O, O...</td>\n",
       "      <td>[5, 0, 0, 0, 0, 0, 7, 8, 0, 0, 0, 0, 0, 0, 0, ...</td>\n",
       "    </tr>\n",
       "    <tr>\n",
       "      <th>4</th>\n",
       "      <td>[But, China, saw, their, luck, desert, them, i...</td>\n",
       "      <td>[O, B-LOC, O, O, O, O, O, O, O, O, O, O, O, O,...</td>\n",
       "      <td>[0, 5, 0, 0, 0, 0, 0, 0, 0, 0, 0, 0, 0, 0, 0, ...</td>\n",
       "    </tr>\n",
       "  </tbody>\n",
       "</table>\n",
       "</div>"
      ],
      "text/plain": [
       "                                              tokens  \\\n",
       "0  [SOCCER, -, JAPAN, GET, LUCKY, WIN, ,, CHINA, ...   \n",
       "1                                     [Nadim, Ladki]   \n",
       "2    [AL-AIN, ,, United, Arab, Emirates, 1996-12-06]   \n",
       "3  [Japan, began, the, defence, of, their, Asian,...   \n",
       "4  [But, China, saw, their, luck, desert, them, i...   \n",
       "\n",
       "                                          ner_labels  \\\n",
       "0       [O, O, B-LOC, O, O, O, O, B-PER, O, O, O, O]   \n",
       "1                                     [B-PER, I-PER]   \n",
       "2                 [B-LOC, O, B-LOC, I-LOC, I-LOC, O]   \n",
       "3  [B-LOC, O, O, O, O, O, B-MISC, I-MISC, O, O, O...   \n",
       "4  [O, B-LOC, O, O, O, O, O, O, O, O, O, O, O, O,...   \n",
       "\n",
       "                                            ner_tags  \n",
       "0               [0, 0, 5, 0, 0, 0, 0, 1, 0, 0, 0, 0]  \n",
       "1                                             [1, 2]  \n",
       "2                                 [5, 0, 5, 6, 6, 0]  \n",
       "3  [5, 0, 0, 0, 0, 0, 7, 8, 0, 0, 0, 0, 0, 0, 0, ...  \n",
       "4  [0, 5, 0, 0, 0, 0, 0, 0, 0, 0, 0, 0, 0, 0, 0, ...  "
      ]
     },
     "execution_count": 13,
     "metadata": {},
     "output_type": "execute_result"
    }
   ],
   "source": [
    "test_df.head()"
   ]
  },
  {
   "cell_type": "code",
   "execution_count": 14,
   "metadata": {},
   "outputs": [
    {
     "data": {
      "image/png": "[encoded data removed]",
      "text/plain": [
       "<Figure size 1000x500 with 1 Axes>"
      ]
     },
     "metadata": {},
     "output_type": "display_data"
    },
    {
     "name": "stdout",
     "output_type": "stream",
     "text": [
      "NER Tag Counts:\n",
      "B-ORG: 6321\n",
      "O: 169578\n",
      "B-MISC: 3438\n",
      "B-PER: 6600\n",
      "I-PER: 4528\n",
      "B-LOC: 7140\n",
      "I-ORG: 3704\n",
      "I-MISC: 1155\n",
      "I-LOC: 1157\n"
     ]
    }
   ],
   "source": [
    "import matplotlib.pyplot as plt\n",
    "from collections import Counter\n",
    "\n",
    "all_ner_tags = [tag for tags in train_df['ner_labels'] for tag in tags]\n",
    "\n",
    "# Count the occurrence of each NER tag\n",
    "tag_counts = Counter(all_ner_tags)\n",
    "\n",
    "# Plot the NER tag distribution\n",
    "plt.figure(figsize=(10, 5))\n",
    "plt.bar(tag_counts.keys(), tag_counts.values(), color='skyblue')\n",
    "plt.xticks(rotation=45, ha='right')\n",
    "plt.title(\"NER Tag Distribution in Training Data\")\n",
    "plt.xlabel(\"NER Tag\")\n",
    "plt.ylabel(\"Frequency\")\n",
    "plt.show()\n",
    "\n",
    "# Also display the counts\n",
    "print(\"NER Tag Counts:\")\n",
    "for tag, count in tag_counts.items():\n",
    "    print(f\"{tag}: {count}\")\n"
   ]
  },
  {
   "cell_type": "code",
   "execution_count": 15,
   "metadata": {},
   "outputs": [
    {
     "data": {
      "image/png": "[encoded data removed]",
      "text/plain": [
       "<Figure size 1000x500 with 1 Axes>"
      ]
     },
     "metadata": {},
     "output_type": "display_data"
    },
    {
     "name": "stdout",
     "output_type": "stream",
     "text": [
      "Sentence Length Statistics:\n",
      "count    14041.000000\n",
      "mean        14.501887\n",
      "std         11.602756\n",
      "min          1.000000\n",
      "25%          6.000000\n",
      "50%         10.000000\n",
      "75%         22.000000\n",
      "max        113.000000\n",
      "Name: tokens, dtype: float64\n"
     ]
    }
   ],
   "source": [
    "import seaborn as sns\n",
    "\n",
    "# Calculate the sentence length (number of tokens) for each sample \n",
    "train_df_sentence_length = train_df['tokens'].apply(len)\n",
    "\n",
    "# Plot the distribution of sentence lengths\n",
    "plt.figure(figsize=(10, 5))\n",
    "sns.histplot(train_df_sentence_length, bins=50, kde=True, color='purple')\n",
    "plt.title(\"Distribution of Sentence Lengths in Training Data\")\n",
    "plt.xlabel(\"Number of Tokens (Words)\")\n",
    "plt.ylabel(\"Frequency\")\n",
    "plt.show()\n",
    "\n",
    "# Print basic statistics about sentence length\n",
    "print(\"Sentence Length Statistics:\")\n",
    "print(train_df_sentence_length.describe())\n"
   ]
  },
  {
   "cell_type": "code",
   "execution_count": 16,
   "metadata": {},
   "outputs": [
    {
     "data": {
      "text/plain": [
       "(14041, 3)"
      ]
     },
     "execution_count": 16,
     "metadata": {},
     "output_type": "execute_result"
    }
   ],
   "source": [
    "train_df.shape"
   ]
  },
  {
   "cell_type": "markdown",
   "metadata": {},
   "source": [
    "# NEVER Apply Traditional NLP Preprocessing For NER (With BERT) 🚨\n",
    "👉 DO NOT: ❌ Remove Stopwords\n",
    "👉 DO NOT: ❌ Lemmatize\n",
    "👉 DO NOT: ❌ Remove Punctuation\n",
    "👉 DO NOT: ❌ Lowercase Text\n",
    "\n",
    "Why? 🤔\n",
    "\n",
    "Because if you do any of these traditional NLP preprocessing steps:\n",
    "\n",
    "🚨 You will destroy entity-level information (like Person, Organization, Location)\n",
    "🚨 You will drastically reduce your F1-score (by at least 20-30%)\n",
    "🚨 BERT already knows how to handle such text, and messing with it will make BERT useless. \n"
   ]
  },
  {
   "cell_type": "code",
   "execution_count": null,
   "metadata": {},
   "outputs": [
    {
     "name": "stderr",
     "output_type": "stream",
     "text": [
      "Some weights of BertForTokenClassification were not initialized from the model checkpoint at bert-base-uncased and are newly initialized: ['classifier.bias', 'classifier.weight']\n",
      "You should probably TRAIN this model on a down-stream task to be able to use it for predictions and inference.\n"
     ]
    }
   ],
   "source": [
    "MODEL_NAME = \"bert-base-uncased\"\n",
    "tokenizer = BertTokenizerFast.from_pretrained(MODEL_NAME)\n",
    "model = BertForTokenClassification.from_pretrained(MODEL_NAME, num_labels=len(tag_list))"
   ]
  },
  {
   "cell_type": "code",
   "execution_count": null,
   "metadata": {},
   "outputs": [],
   "source": [
    "# ✅ Function 1: Tokenize and Align Labels\n",
    "def tokenize_and_align_labels(example):\n",
    "    \"\"\"\n",
    "    Tokenizes input text and aligns NER labels with tokens (including subwords).\n",
    "    Handles subword tokenization misalignment by adding -100 for ignored tokens.\n",
    "    \"\"\"\n",
    "    # Tokenize\n",
    "    tokenized_inputs = tokenizer(example['tokens'],\n",
    "                                 truncation=True,\n",
    "                                 is_split_into_words=True,\n",
    "                                 padding='max_length',\n",
    "                                 max_length=128,\n",
    "                                 return_tensors='pt')\n",
    "\n",
    "    # Align labels\n",
    "    labels = []\n",
    "    word_ids = tokenized_inputs.word_ids(batch_index=0)  # Only one sentence at a time\n",
    "    previous_word_idx = None\n",
    "\n",
    "    for word_idx in word_ids:\n",
    "        if word_idx is None:\n",
    "            labels.append(-100)\n",
    "        elif word_idx != previous_word_idx:\n",
    "            labels.append(example['ner_tags'][word_idx])\n",
    "        else:\n",
    "            labels.append(-100)\n",
    "        previous_word_idx = word_idx\n",
    "\n",
    "    # Add labels to tokenized output\n",
    "    tokenized_inputs['labels'] = torch.tensor(labels)\n",
    "    return tokenized_inputs"
   ]
  },
  {
   "cell_type": "code",
   "execution_count": 19,
   "metadata": {},
   "outputs": [],
   "source": [
    "def prepare_dataset(df):\n",
    "    \"\"\"\n",
    "    Iterates through the DataFrame and calls tokenize_and_align_labels.\n",
    "    Returns a HuggingFace Dataset with input_ids, attention_mask, and labels.\n",
    "    \"\"\"\n",
    "    tokenized_data = []\n",
    "    \n",
    "    for i in range(len(df)):\n",
    "        tokens = df.iloc[i]['tokens']\n",
    "        labels = df.iloc[i]['ner_tags']\n",
    "\n",
    "        # Call the tokenizer function\n",
    "        tokenized_output = tokenize_and_align_labels({'tokens': tokens, 'ner_tags': labels})\n",
    "        tokenized_data.append(tokenized_output)\n",
    "    \n",
    "    # Extract input_ids, attention_mask, and labels\n",
    "    input_ids = [x['input_ids'].squeeze(0).tolist() for x in tokenized_data]\n",
    "    attention_mask = [x['attention_mask'].squeeze(0).tolist() for x in tokenized_data]\n",
    "    labels = [x['labels'].squeeze(0).tolist() for x in tokenized_data]\n",
    "    \n",
    "    # Convert to HuggingFace Dataset\n",
    "    dataset = Dataset.from_dict({\n",
    "        \"input_ids\": input_ids,\n",
    "        \"attention_mask\": attention_mask,\n",
    "        \"labels\": labels\n",
    "    })\n",
    "    \n",
    "    return dataset\n"
   ]
  },
  {
   "cell_type": "code",
   "execution_count": 20,
   "metadata": {},
   "outputs": [],
   "source": [
    "# input_ids = [x['input_ids'] for x in tokenized_data]\n",
    "# attention_mask = [x['attention_mask'] for x in tokenized_data]\n",
    "# labels = [x['labels'] for x in tokenized_data]\n"
   ]
  },
  {
   "cell_type": "code",
   "execution_count": 21,
   "metadata": {},
   "outputs": [],
   "source": [
    "train_dataset = prepare_dataset(train_df)\n",
    "valid_dataset = prepare_dataset(valid_df)\n",
    "test_dataset = prepare_dataset(test_df)"
   ]
  },
  {
   "cell_type": "code",
   "execution_count": 22,
   "metadata": {},
   "outputs": [
    {
     "data": {
      "text/plain": [
       "[101,\n",
       " 7327,\n",
       " 19164,\n",
       " 2446,\n",
       " 2655,\n",
       " 2000,\n",
       " 17757,\n",
       " 2329,\n",
       " 12559,\n",
       " 1012,\n",
       " 102,\n",
       " 0,\n",
       " 0,\n",
       " 0,\n",
       " 0,\n",
       " 0,\n",
       " 0,\n",
       " 0,\n",
       " 0,\n",
       " 0,\n",
       " 0,\n",
       " 0,\n",
       " 0,\n",
       " 0,\n",
       " 0,\n",
       " 0,\n",
       " 0,\n",
       " 0,\n",
       " 0,\n",
       " 0,\n",
       " 0,\n",
       " 0,\n",
       " 0,\n",
       " 0,\n",
       " 0,\n",
       " 0,\n",
       " 0,\n",
       " 0,\n",
       " 0,\n",
       " 0,\n",
       " 0,\n",
       " 0,\n",
       " 0,\n",
       " 0,\n",
       " 0,\n",
       " 0,\n",
       " 0,\n",
       " 0,\n",
       " 0,\n",
       " 0,\n",
       " 0,\n",
       " 0,\n",
       " 0,\n",
       " 0,\n",
       " 0,\n",
       " 0,\n",
       " 0,\n",
       " 0,\n",
       " 0,\n",
       " 0,\n",
       " 0,\n",
       " 0,\n",
       " 0,\n",
       " 0,\n",
       " 0,\n",
       " 0,\n",
       " 0,\n",
       " 0,\n",
       " 0,\n",
       " 0,\n",
       " 0,\n",
       " 0,\n",
       " 0,\n",
       " 0,\n",
       " 0,\n",
       " 0,\n",
       " 0,\n",
       " 0,\n",
       " 0,\n",
       " 0,\n",
       " 0,\n",
       " 0,\n",
       " 0,\n",
       " 0,\n",
       " 0,\n",
       " 0,\n",
       " 0,\n",
       " 0,\n",
       " 0,\n",
       " 0,\n",
       " 0,\n",
       " 0,\n",
       " 0,\n",
       " 0,\n",
       " 0,\n",
       " 0,\n",
       " 0,\n",
       " 0,\n",
       " 0,\n",
       " 0,\n",
       " 0,\n",
       " 0,\n",
       " 0,\n",
       " 0,\n",
       " 0,\n",
       " 0,\n",
       " 0,\n",
       " 0,\n",
       " 0,\n",
       " 0,\n",
       " 0,\n",
       " 0,\n",
       " 0,\n",
       " 0,\n",
       " 0,\n",
       " 0,\n",
       " 0,\n",
       " 0,\n",
       " 0,\n",
       " 0,\n",
       " 0,\n",
       " 0,\n",
       " 0,\n",
       " 0,\n",
       " 0,\n",
       " 0,\n",
       " 0,\n",
       " 0]"
      ]
     },
     "execution_count": 22,
     "metadata": {},
     "output_type": "execute_result"
    }
   ],
   "source": [
    "train_dataset[0]['input_ids']\n"
   ]
  },
  {
   "cell_type": "code",
   "execution_count": 23,
   "metadata": {},
   "outputs": [
    {
     "data": {
      "text/plain": [
       "[-100,\n",
       " 3,\n",
       " 0,\n",
       " 7,\n",
       " 0,\n",
       " 0,\n",
       " 0,\n",
       " 7,\n",
       " 0,\n",
       " 0,\n",
       " -100,\n",
       " -100,\n",
       " -100,\n",
       " -100,\n",
       " -100,\n",
       " -100,\n",
       " -100,\n",
       " -100,\n",
       " -100,\n",
       " -100,\n",
       " -100,\n",
       " -100,\n",
       " -100,\n",
       " -100,\n",
       " -100,\n",
       " -100,\n",
       " -100,\n",
       " -100,\n",
       " -100,\n",
       " -100,\n",
       " -100,\n",
       " -100,\n",
       " -100,\n",
       " -100,\n",
       " -100,\n",
       " -100,\n",
       " -100,\n",
       " -100,\n",
       " -100,\n",
       " -100,\n",
       " -100,\n",
       " -100,\n",
       " -100,\n",
       " -100,\n",
       " -100,\n",
       " -100,\n",
       " -100,\n",
       " -100,\n",
       " -100,\n",
       " -100,\n",
       " -100,\n",
       " -100,\n",
       " -100,\n",
       " -100,\n",
       " -100,\n",
       " -100,\n",
       " -100,\n",
       " -100,\n",
       " -100,\n",
       " -100,\n",
       " -100,\n",
       " -100,\n",
       " -100,\n",
       " -100,\n",
       " -100,\n",
       " -100,\n",
       " -100,\n",
       " -100,\n",
       " -100,\n",
       " -100,\n",
       " -100,\n",
       " -100,\n",
       " -100,\n",
       " -100,\n",
       " -100,\n",
       " -100,\n",
       " -100,\n",
       " -100,\n",
       " -100,\n",
       " -100,\n",
       " -100,\n",
       " -100,\n",
       " -100,\n",
       " -100,\n",
       " -100,\n",
       " -100,\n",
       " -100,\n",
       " -100,\n",
       " -100,\n",
       " -100,\n",
       " -100,\n",
       " -100,\n",
       " -100,\n",
       " -100,\n",
       " -100,\n",
       " -100,\n",
       " -100,\n",
       " -100,\n",
       " -100,\n",
       " -100,\n",
       " -100,\n",
       " -100,\n",
       " -100,\n",
       " -100,\n",
       " -100,\n",
       " -100,\n",
       " -100,\n",
       " -100,\n",
       " -100,\n",
       " -100,\n",
       " -100,\n",
       " -100,\n",
       " -100,\n",
       " -100,\n",
       " -100,\n",
       " -100,\n",
       " -100,\n",
       " -100,\n",
       " -100,\n",
       " -100,\n",
       " -100,\n",
       " -100,\n",
       " -100,\n",
       " -100,\n",
       " -100,\n",
       " -100,\n",
       " -100,\n",
       " -100]"
      ]
     },
     "execution_count": 23,
     "metadata": {},
     "output_type": "execute_result"
    }
   ],
   "source": [
    "train_dataset[0]['labels']"
   ]
  },
  {
   "cell_type": "code",
   "execution_count": 24,
   "metadata": {},
   "outputs": [],
   "source": [
    "# Define Evaluation Metrics\n",
    "def compute_metrics(eval_pred):\n",
    "    predictions, labels = eval_pred\n",
    "    predictions = np.argmax(predictions, axis=2)\n",
    "\n",
    "    # Convert predictions and labels to entity-level tags\n",
    "    true_labels = [\n",
    "        [tag_list[l] for (p, l) in zip(prediction, label) if l != -100]\n",
    "        for prediction, label in zip(predictions, labels)\n",
    "    ]\n",
    "    pred_labels = [\n",
    "        [tag_list[p] for (p, l) in zip(prediction, label) if l != -100]\n",
    "        for prediction, label in zip(predictions, labels)\n",
    "    ]\n",
    "    '''\n",
    "    pred_labels = []\n",
    "    for prediction, label in zip(predictions, labels):\n",
    "        current_sentence_predictions = []\n",
    "        for p, l in zip(prediction, label):\n",
    "            if l != -100:\n",
    "                current_sentence_predictions.append(tag_list[p])\n",
    "        \n",
    "        pred_labels.append(current_sentence_predictions)\n",
    "     '''\n",
    "    # Use seqeval to evaluate at entity-level\n",
    "    report = classification_report(true_labels, pred_labels)\n",
    "    f1 = f1_score(true_labels, pred_labels)\n",
    "    precision = precision_score(true_labels, pred_labels)\n",
    "    recall = recall_score(true_labels, pred_labels)\n",
    "\n",
    "    return {\n",
    "        'f1': f1,\n",
    "        'precision': precision,\n",
    "        'recall': recall,\n",
    "        'classification_report': report\n",
    "    }\n"
   ]
  },
  {
   "cell_type": "code",
   "execution_count": 25,
   "metadata": {},
   "outputs": [
    {
     "name": "stderr",
     "output_type": "stream",
     "text": [
      "c:\\Users\\thanredd\\Desktop\\Personal\\DeccanAI\\myenv\\lib\\site-packages\\transformers\\training_args.py:1594: FutureWarning: `evaluation_strategy` is deprecated and will be removed in version 4.46 of 🤗 Transformers. Use `eval_strategy` instead\n",
      "  warnings.warn(\n"
     ]
    }
   ],
   "source": [
    "training_args = TrainingArguments(\n",
    "    output_dir='./results',\n",
    "    evaluation_strategy='epoch',   # ✅ Evaluate after every epoch\n",
    "    save_strategy='epoch',         # ✅ Save after every epoch (VERY IMPORTANT)\n",
    "    learning_rate=5e-5,\n",
    "    per_device_train_batch_size=16,\n",
    "    per_device_eval_batch_size=16,\n",
    "    num_train_epochs=5,\n",
    "    weight_decay=0.01,\n",
    "    logging_dir='./logs',\n",
    "    logging_steps=10,\n",
    "    load_best_model_at_end=True,   # ✅ Load the best model based on F1-score\n",
    "    metric_for_best_model=\"f1\"\n",
    ")\n",
    "\n"
   ]
  },
  {
   "cell_type": "code",
   "execution_count": 26,
   "metadata": {},
   "outputs": [],
   "source": [
    "trainer = Trainer(\n",
    "    model=model,\n",
    "    args=training_args,\n",
    "    train_dataset=train_dataset,\n",
    "    eval_dataset=valid_dataset,\n",
    "    compute_metrics=compute_metrics,\n",
    ")\n"
   ]
  },
  {
   "cell_type": "code",
   "execution_count": 27,
   "metadata": {},
   "outputs": [
    {
     "data": {
      "text/html": [
       "\n",
       "    <div>\n",
       "      \n",
       "      <progress value='4390' max='4390' style='width:300px; height:20px; vertical-align: middle;'></progress>\n",
       "      [4390/4390 38:41, Epoch 5/5]\n",
       "    </div>\n",
       "    <table border=\"1\" class=\"dataframe\">\n",
       "  <thead>\n",
       " <tr style=\"text-align: left;\">\n",
       "      <th>Epoch</th>\n",
       "      <th>Training Loss</th>\n",
       "      <th>Validation Loss</th>\n",
       "      <th>F1</th>\n",
       "      <th>Precision</th>\n",
       "      <th>Recall</th>\n",
       "      <th>Classification Report</th>\n",
       "    </tr>\n",
       "  </thead>\n",
       "  <tbody>\n",
       "    <tr>\n",
       "      <td>1</td>\n",
       "      <td>0.084200</td>\n",
       "      <td>0.047986</td>\n",
       "      <td>0.936156</td>\n",
       "      <td>0.930472</td>\n",
       "      <td>0.941909</td>\n",
       "      <td>              precision    recall  f1-score   support\n",
       "\n",
       "         LOC       0.94      0.97      0.95      1837\n",
       "        MISC       0.88      0.85      0.86       922\n",
       "         ORG       0.88      0.93      0.90      1341\n",
       "         PER       0.99      0.97      0.98      1839\n",
       "\n",
       "   micro avg       0.93      0.94      0.94      5939\n",
       "   macro avg       0.92      0.93      0.93      5939\n",
       "weighted avg       0.93      0.94      0.94      5939\n",
       "</td>\n",
       "    </tr>\n",
       "    <tr>\n",
       "      <td>2</td>\n",
       "      <td>0.017600</td>\n",
       "      <td>0.047889</td>\n",
       "      <td>0.940037</td>\n",
       "      <td>0.932560</td>\n",
       "      <td>0.947634</td>\n",
       "      <td>              precision    recall  f1-score   support\n",
       "\n",
       "         LOC       0.96      0.96      0.96      1837\n",
       "        MISC       0.84      0.88      0.86       922\n",
       "         ORG       0.91      0.91      0.91      1341\n",
       "         PER       0.97      0.99      0.98      1839\n",
       "\n",
       "   micro avg       0.93      0.95      0.94      5939\n",
       "   macro avg       0.92      0.94      0.93      5939\n",
       "weighted avg       0.93      0.95      0.94      5939\n",
       "</td>\n",
       "    </tr>\n",
       "    <tr>\n",
       "      <td>3</td>\n",
       "      <td>0.009200</td>\n",
       "      <td>0.049611</td>\n",
       "      <td>0.945317</td>\n",
       "      <td>0.943178</td>\n",
       "      <td>0.947466</td>\n",
       "      <td>              precision    recall  f1-score   support\n",
       "\n",
       "         LOC       0.97      0.96      0.96      1837\n",
       "        MISC       0.87      0.89      0.88       922\n",
       "         ORG       0.91      0.92      0.91      1341\n",
       "         PER       0.98      0.98      0.98      1839\n",
       "\n",
       "   micro avg       0.94      0.95      0.95      5939\n",
       "   macro avg       0.93      0.94      0.94      5939\n",
       "weighted avg       0.94      0.95      0.95      5939\n",
       "</td>\n",
       "    </tr>\n",
       "    <tr>\n",
       "      <td>4</td>\n",
       "      <td>0.004100</td>\n",
       "      <td>0.054188</td>\n",
       "      <td>0.946918</td>\n",
       "      <td>0.943201</td>\n",
       "      <td>0.950665</td>\n",
       "      <td>              precision    recall  f1-score   support\n",
       "\n",
       "         LOC       0.96      0.97      0.96      1837\n",
       "        MISC       0.88      0.89      0.88       922\n",
       "         ORG       0.91      0.92      0.92      1341\n",
       "         PER       0.98      0.98      0.98      1839\n",
       "\n",
       "   micro avg       0.94      0.95      0.95      5939\n",
       "   macro avg       0.93      0.94      0.94      5939\n",
       "weighted avg       0.94      0.95      0.95      5939\n",
       "</td>\n",
       "    </tr>\n",
       "    <tr>\n",
       "      <td>5</td>\n",
       "      <td>0.011900</td>\n",
       "      <td>0.055109</td>\n",
       "      <td>0.946997</td>\n",
       "      <td>0.944854</td>\n",
       "      <td>0.949150</td>\n",
       "      <td>              precision    recall  f1-score   support\n",
       "\n",
       "         LOC       0.96      0.97      0.96      1837\n",
       "        MISC       0.89      0.89      0.89       922\n",
       "         ORG       0.92      0.92      0.92      1341\n",
       "         PER       0.98      0.98      0.98      1839\n",
       "\n",
       "   micro avg       0.94      0.95      0.95      5939\n",
       "   macro avg       0.94      0.94      0.94      5939\n",
       "weighted avg       0.94      0.95      0.95      5939\n",
       "</td>\n",
       "    </tr>\n",
       "  </tbody>\n",
       "</table><p>"
      ],
      "text/plain": [
       "<IPython.core.display.HTML object>"
      ]
     },
     "metadata": {},
     "output_type": "display_data"
    },
    {
     "data": {
      "text/plain": [
       "TrainOutput(global_step=4390, training_loss=0.030391268483585844, metrics={'train_runtime': 2321.8566, 'train_samples_per_second': 30.237, 'train_steps_per_second': 1.891, 'total_flos': 4586374939242240.0, 'train_loss': 0.030391268483585844, 'epoch': 5.0})"
      ]
     },
     "execution_count": 27,
     "metadata": {},
     "output_type": "execute_result"
    }
   ],
   "source": [
    "trainer.train()"
   ]
  },
  {
   "cell_type": "code",
   "execution_count": 35,
   "metadata": {},
   "outputs": [
    {
     "name": "stdout",
     "output_type": "stream",
     "text": [
      "Evaluation Results of trainer:\n",
      "======================================\n",
      "Loss: 0.0551\n",
      "Precision: 0.9449\n",
      " Recall: 0.9491\n",
      " F1-Score: 0.9470\n",
      "\n",
      "FULL DETAILED TESTING CLASSIFICATION REPORT:\n",
      "              precision    recall  f1-score   support\n",
      "\n",
      "         LOC       0.96      0.97      0.96      1837\n",
      "        MISC       0.89      0.89      0.89       922\n",
      "         ORG       0.92      0.92      0.92      1341\n",
      "         PER       0.98      0.98      0.98      1839\n",
      "\n",
      "   micro avg       0.94      0.95      0.95      5939\n",
      "   macro avg       0.94      0.94      0.94      5939\n",
      "weighted avg       0.94      0.95      0.95      5939\n",
      "\n"
     ]
    }
   ],
   "source": [
    "traine_results = trainer.evaluate()\n",
    "print(\"Evaluation Results of trainer:\")\n",
    "print(\"======================================\")\n",
    "print(f\"Loss: {traine_results['eval_loss']:.4f}\")\n",
    "print(f\"Precision: {traine_results['eval_precision']:.4f}\")\n",
    "print(f\" Recall: {traine_results['eval_recall']:.4f}\")\n",
    "print(f\" F1-Score: {traine_results['eval_f1']:.4f}\")\n",
    "print(\"\\nFULL DETAILED TESTING CLASSIFICATION REPORT:\")\n",
    "print(f\"\"\"{traine_results['eval_classification_report']}\"\"\")"
   ]
  },
  {
   "cell_type": "code",
   "execution_count": 37,
   "metadata": {},
   "outputs": [
    {
     "name": "stdout",
     "output_type": "stream",
     "text": [
      " Evaluation Results on Test Dataset:\n",
      "======================================\n",
      "Loss: 0.1542\n",
      "Precision: 0.8989\n",
      " Recall: 0.9088\n",
      " F1-Score: 0.9038\n",
      "\n",
      "FULL DETAILED TESTING CLASSIFICATION REPORT:\n",
      "              precision    recall  f1-score   support\n",
      "\n",
      "         LOC       0.92      0.93      0.92      1667\n",
      "        MISC       0.76      0.81      0.79       702\n",
      "         ORG       0.87      0.87      0.87      1661\n",
      "         PER       0.97      0.97      0.97      1616\n",
      "\n",
      "   micro avg       0.90      0.91      0.90      5646\n",
      "   macro avg       0.88      0.90      0.89      5646\n",
      "weighted avg       0.90      0.91      0.90      5646\n",
      "\n"
     ]
    }
   ],
   "source": [
    "# Evaluating the test dataset\n",
    "test_results = trainer.evaluate(test_dataset)\n",
    "\n",
    "print(\" Evaluation Results on Test Dataset:\")\n",
    "print(\"======================================\")\n",
    "print(f\"Loss: {test_results['eval_loss']:.4f}\")\n",
    "print(f\"Precision: {test_results['eval_precision']:.4f}\")\n",
    "print(f\" Recall: {test_results['eval_recall']:.4f}\")\n",
    "print(f\" F1-Score: {test_results['eval_f1']:.4f}\")\n",
    "print(\"\\nFULL DETAILED TESTING CLASSIFICATION REPORT:\")\n",
    "print(f\"\"\"{test_results['eval_classification_report']}\"\"\")"
   ]
  },
  {
   "cell_type": "code",
   "execution_count": 39,
   "metadata": {},
   "outputs": [],
   "source": [
    "trainer.save_model(\"./best_bert_ner_model\")"
   ]
  },
  {
   "cell_type": "code",
   "execution_count": 41,
   "metadata": {},
   "outputs": [
    {
     "name": "stdout",
     "output_type": "stream",
     "text": [
      "Model and Tokenizer Saved Successfully\n"
     ]
    }
   ],
   "source": [
    "import pickle\n",
    "\n",
    "# Save the trained model\n",
    "with open('../saved_pkl/ner_model.pkl', 'wb') as model_file:\n",
    "    pickle.dump(model, model_file)\n",
    "\n",
    "# Save the tokenizer\n",
    "with open('../saved_pkl/tokenizer.pkl', 'wb') as tokenizer_file:\n",
    "    pickle.dump(tokenizer, tokenizer_file)\n",
    "\n",
    "print(\"Model and Tokenizer Saved Successfully\")\n"
   ]
  },
  {
   "cell_type": "code",
   "execution_count": null,
   "metadata": {},
   "outputs": [],
   "source": []
  }
 ],
 "metadata": {
  "kernelspec": {
   "display_name": "myenv",
   "language": "python",
   "name": "python3"
  },
  "language_info": {
   "codemirror_mode": {
    "name": "ipython",
    "version": 3
   },
   "file_extension": ".py",
   "mimetype": "text/x-python",
   "name": "python",
   "nbconvert_exporter": "python",
   "pygments_lexer": "ipython3",
   "version": "3.10.0"
  }
 },
 "nbformat": 4,
 "nbformat_minor": 2
}
